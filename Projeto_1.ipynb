{
  "cells": [
    {
      "cell_type": "markdown",
      "id": "49baca0b-d041-4d53-a8a6-c0a6465335ac",
      "metadata": {
        "tags": [],
        "id": "49baca0b-d041-4d53-a8a6-c0a6465335ac"
      },
      "source": [
        "# Project 1 - Iris Flower Classification Project using Machine Learning\n",
        "\n",
        "<img src=\"https://github.com/orlandojrps/Project1/blob/main/images/img1.png?raw=true\" width=\"500\" height=\"100\"/>"
      ]
    },
    {
      "cell_type": "code",
      "execution_count": 1,
      "id": "e6a6d9b3-a08f-4479-b541-e7f66f6ce22b",
      "metadata": {
        "id": "e6a6d9b3-a08f-4479-b541-e7f66f6ce22b"
      },
      "outputs": [],
      "source": [
        "import numpy as np\n",
        "import pandas as pd\n",
        "import matplotlib.pyplot as plt\n",
        "from sklearn.model_selection import train_test_split\n",
        "from sklearn import preprocessing\n",
        "from sklearn.linear_model import LogisticRegression\n",
        "from sklearn.tree import DecisionTreeClassifier\n",
        "from sklearn.neighbors import KNeighborsClassifier\n",
        "from sklearn.discriminant_analysis import LinearDiscriminantAnalysis\n",
        "from sklearn.ensemble import RandomForestClassifier\n",
        "from sklearn.svm import SVC\n",
        "from plotnine import *\n",
        "import pickle\n",
        "import warnings\n",
        "warnings.filterwarnings('ignore')"
      ]
    },
    {
      "cell_type": "code",
      "execution_count": 2,
      "id": "b5084f8f-76ec-4163-aeec-5842c915d510",
      "metadata": {
        "id": "b5084f8f-76ec-4163-aeec-5842c915d510"
      },
      "outputs": [],
      "source": [
        "df = pd.read_csv(\"https://raw.githubusercontent.com/orlandojrps/Project1/main/Dataset/dataset1.csv\")"
      ]
    },
    {
      "cell_type": "code",
      "execution_count": 3,
      "id": "21dea4f0",
      "metadata": {
        "colab": {
          "base_uri": "https://localhost:8080/",
          "height": 424
        },
        "id": "21dea4f0",
        "outputId": "6701ac23-886e-41d6-ea49-c736cc9209b1"
      },
      "outputs": [
        {
          "output_type": "execute_result",
          "data": {
            "text/plain": [
              "    sepal_length  sepal_width  petal_length  petal_width     species\n",
              "0            5.1          3.5           1.4          0.2      setosa\n",
              "1            4.9          3.0           1.4          0.2      setosa\n",
              "2            4.7          3.2           1.3          0.2      setosa\n",
              "3            4.6          3.1           1.5          0.2      setosa\n",
              "4            5.0          3.6           1.4          0.2      setosa\n",
              "..           ...          ...           ...          ...         ...\n",
              "95           5.7          3.0           4.2          1.2  versicolor\n",
              "96           5.7          2.9           4.2          1.3  versicolor\n",
              "97           6.2          2.9           4.3          1.3  versicolor\n",
              "98           5.1          2.5           3.0          1.1  versicolor\n",
              "99           5.7          2.8           4.1          1.3  versicolor\n",
              "\n",
              "[100 rows x 5 columns]"
            ],
            "text/html": [
              "\n",
              "  <div id=\"df-f22bf7c6-9783-49cb-9b26-0aa136bc9e13\">\n",
              "    <div class=\"colab-df-container\">\n",
              "      <div>\n",
              "<style scoped>\n",
              "    .dataframe tbody tr th:only-of-type {\n",
              "        vertical-align: middle;\n",
              "    }\n",
              "\n",
              "    .dataframe tbody tr th {\n",
              "        vertical-align: top;\n",
              "    }\n",
              "\n",
              "    .dataframe thead th {\n",
              "        text-align: right;\n",
              "    }\n",
              "</style>\n",
              "<table border=\"1\" class=\"dataframe\">\n",
              "  <thead>\n",
              "    <tr style=\"text-align: right;\">\n",
              "      <th></th>\n",
              "      <th>sepal_length</th>\n",
              "      <th>sepal_width</th>\n",
              "      <th>petal_length</th>\n",
              "      <th>petal_width</th>\n",
              "      <th>species</th>\n",
              "    </tr>\n",
              "  </thead>\n",
              "  <tbody>\n",
              "    <tr>\n",
              "      <th>0</th>\n",
              "      <td>5.1</td>\n",
              "      <td>3.5</td>\n",
              "      <td>1.4</td>\n",
              "      <td>0.2</td>\n",
              "      <td>setosa</td>\n",
              "    </tr>\n",
              "    <tr>\n",
              "      <th>1</th>\n",
              "      <td>4.9</td>\n",
              "      <td>3.0</td>\n",
              "      <td>1.4</td>\n",
              "      <td>0.2</td>\n",
              "      <td>setosa</td>\n",
              "    </tr>\n",
              "    <tr>\n",
              "      <th>2</th>\n",
              "      <td>4.7</td>\n",
              "      <td>3.2</td>\n",
              "      <td>1.3</td>\n",
              "      <td>0.2</td>\n",
              "      <td>setosa</td>\n",
              "    </tr>\n",
              "    <tr>\n",
              "      <th>3</th>\n",
              "      <td>4.6</td>\n",
              "      <td>3.1</td>\n",
              "      <td>1.5</td>\n",
              "      <td>0.2</td>\n",
              "      <td>setosa</td>\n",
              "    </tr>\n",
              "    <tr>\n",
              "      <th>4</th>\n",
              "      <td>5.0</td>\n",
              "      <td>3.6</td>\n",
              "      <td>1.4</td>\n",
              "      <td>0.2</td>\n",
              "      <td>setosa</td>\n",
              "    </tr>\n",
              "    <tr>\n",
              "      <th>...</th>\n",
              "      <td>...</td>\n",
              "      <td>...</td>\n",
              "      <td>...</td>\n",
              "      <td>...</td>\n",
              "      <td>...</td>\n",
              "    </tr>\n",
              "    <tr>\n",
              "      <th>95</th>\n",
              "      <td>5.7</td>\n",
              "      <td>3.0</td>\n",
              "      <td>4.2</td>\n",
              "      <td>1.2</td>\n",
              "      <td>versicolor</td>\n",
              "    </tr>\n",
              "    <tr>\n",
              "      <th>96</th>\n",
              "      <td>5.7</td>\n",
              "      <td>2.9</td>\n",
              "      <td>4.2</td>\n",
              "      <td>1.3</td>\n",
              "      <td>versicolor</td>\n",
              "    </tr>\n",
              "    <tr>\n",
              "      <th>97</th>\n",
              "      <td>6.2</td>\n",
              "      <td>2.9</td>\n",
              "      <td>4.3</td>\n",
              "      <td>1.3</td>\n",
              "      <td>versicolor</td>\n",
              "    </tr>\n",
              "    <tr>\n",
              "      <th>98</th>\n",
              "      <td>5.1</td>\n",
              "      <td>2.5</td>\n",
              "      <td>3.0</td>\n",
              "      <td>1.1</td>\n",
              "      <td>versicolor</td>\n",
              "    </tr>\n",
              "    <tr>\n",
              "      <th>99</th>\n",
              "      <td>5.7</td>\n",
              "      <td>2.8</td>\n",
              "      <td>4.1</td>\n",
              "      <td>1.3</td>\n",
              "      <td>versicolor</td>\n",
              "    </tr>\n",
              "  </tbody>\n",
              "</table>\n",
              "<p>100 rows × 5 columns</p>\n",
              "</div>\n",
              "      <button class=\"colab-df-convert\" onclick=\"convertToInteractive('df-f22bf7c6-9783-49cb-9b26-0aa136bc9e13')\"\n",
              "              title=\"Convert this dataframe to an interactive table.\"\n",
              "              style=\"display:none;\">\n",
              "        \n",
              "  <svg xmlns=\"http://www.w3.org/2000/svg\" height=\"24px\"viewBox=\"0 0 24 24\"\n",
              "       width=\"24px\">\n",
              "    <path d=\"M0 0h24v24H0V0z\" fill=\"none\"/>\n",
              "    <path d=\"M18.56 5.44l.94 2.06.94-2.06 2.06-.94-2.06-.94-.94-2.06-.94 2.06-2.06.94zm-11 1L8.5 8.5l.94-2.06 2.06-.94-2.06-.94L8.5 2.5l-.94 2.06-2.06.94zm10 10l.94 2.06.94-2.06 2.06-.94-2.06-.94-.94-2.06-.94 2.06-2.06.94z\"/><path d=\"M17.41 7.96l-1.37-1.37c-.4-.4-.92-.59-1.43-.59-.52 0-1.04.2-1.43.59L10.3 9.45l-7.72 7.72c-.78.78-.78 2.05 0 2.83L4 21.41c.39.39.9.59 1.41.59.51 0 1.02-.2 1.41-.59l7.78-7.78 2.81-2.81c.8-.78.8-2.07 0-2.86zM5.41 20L4 18.59l7.72-7.72 1.47 1.35L5.41 20z\"/>\n",
              "  </svg>\n",
              "      </button>\n",
              "      \n",
              "  <style>\n",
              "    .colab-df-container {\n",
              "      display:flex;\n",
              "      flex-wrap:wrap;\n",
              "      gap: 12px;\n",
              "    }\n",
              "\n",
              "    .colab-df-convert {\n",
              "      background-color: #E8F0FE;\n",
              "      border: none;\n",
              "      border-radius: 50%;\n",
              "      cursor: pointer;\n",
              "      display: none;\n",
              "      fill: #1967D2;\n",
              "      height: 32px;\n",
              "      padding: 0 0 0 0;\n",
              "      width: 32px;\n",
              "    }\n",
              "\n",
              "    .colab-df-convert:hover {\n",
              "      background-color: #E2EBFA;\n",
              "      box-shadow: 0px 1px 2px rgba(60, 64, 67, 0.3), 0px 1px 3px 1px rgba(60, 64, 67, 0.15);\n",
              "      fill: #174EA6;\n",
              "    }\n",
              "\n",
              "    [theme=dark] .colab-df-convert {\n",
              "      background-color: #3B4455;\n",
              "      fill: #D2E3FC;\n",
              "    }\n",
              "\n",
              "    [theme=dark] .colab-df-convert:hover {\n",
              "      background-color: #434B5C;\n",
              "      box-shadow: 0px 1px 3px 1px rgba(0, 0, 0, 0.15);\n",
              "      filter: drop-shadow(0px 1px 2px rgba(0, 0, 0, 0.3));\n",
              "      fill: #FFFFFF;\n",
              "    }\n",
              "  </style>\n",
              "\n",
              "      <script>\n",
              "        const buttonEl =\n",
              "          document.querySelector('#df-f22bf7c6-9783-49cb-9b26-0aa136bc9e13 button.colab-df-convert');\n",
              "        buttonEl.style.display =\n",
              "          google.colab.kernel.accessAllowed ? 'block' : 'none';\n",
              "\n",
              "        async function convertToInteractive(key) {\n",
              "          const element = document.querySelector('#df-f22bf7c6-9783-49cb-9b26-0aa136bc9e13');\n",
              "          const dataTable =\n",
              "            await google.colab.kernel.invokeFunction('convertToInteractive',\n",
              "                                                     [key], {});\n",
              "          if (!dataTable) return;\n",
              "\n",
              "          const docLinkHtml = 'Like what you see? Visit the ' +\n",
              "            '<a target=\"_blank\" href=https://colab.research.google.com/notebooks/data_table.ipynb>data table notebook</a>'\n",
              "            + ' to learn more about interactive tables.';\n",
              "          element.innerHTML = '';\n",
              "          dataTable['output_type'] = 'display_data';\n",
              "          await google.colab.output.renderOutput(dataTable, element);\n",
              "          const docLink = document.createElement('div');\n",
              "          docLink.innerHTML = docLinkHtml;\n",
              "          element.appendChild(docLink);\n",
              "        }\n",
              "      </script>\n",
              "    </div>\n",
              "  </div>\n",
              "  "
            ]
          },
          "metadata": {},
          "execution_count": 3
        }
      ],
      "source": [
        "df"
      ]
    },
    {
      "cell_type": "markdown",
      "id": "1ea0c398",
      "metadata": {
        "id": "1ea0c398"
      },
      "source": [
        "## Check balance of the Database\n",
        "<img src=\"https://github.com/orlandojrps/Project1/blob/main/images/img2.png?raw=true\" width=\"500\" height=\"100\"/>"
      ]
    },
    {
      "cell_type": "code",
      "execution_count": 78,
      "id": "9139035d-84a1-4f51-8e82-d38fcd8759c3",
      "metadata": {
        "id": "9139035d-84a1-4f51-8e82-d38fcd8759c3"
      },
      "outputs": [],
      "source": [
        "total = df.groupby('species').agg(n = ('species','count')).reset_index()\n",
        "# total = df.groupby('species', as_index=False).agg(n = ('species','count')) #Alternative code for indexing\n",
        "#total = df.groupby('species', as_index=False).agg({'species':'count'})\n",
        "#total = df.groupby('species').agg(n=pd.NamedAgg(column='species', aggfunc='count')).reset_index()\n",
        "total['perc'] = 100*total['n']/total['n'].sum()"
      ]
    },
    {
      "cell_type": "code",
      "source": [
        "type(total)"
      ],
      "metadata": {
        "colab": {
          "base_uri": "https://localhost:8080/"
        },
        "id": "IoyU7KHikbGg",
        "outputId": "d6171275-aea7-4187-ee66-76b9c251ee45"
      },
      "id": "IoyU7KHikbGg",
      "execution_count": 48,
      "outputs": [
        {
          "output_type": "execute_result",
          "data": {
            "text/plain": [
              "pandas.core.frame.DataFrame"
            ]
          },
          "metadata": {},
          "execution_count": 48
        }
      ]
    },
    {
      "cell_type": "code",
      "execution_count": 79,
      "id": "c69e820a",
      "metadata": {
        "colab": {
          "base_uri": "https://localhost:8080/",
          "height": 112
        },
        "id": "c69e820a",
        "outputId": "8fae9966-570a-4a8a-9b0e-926900ff19a2"
      },
      "outputs": [
        {
          "output_type": "execute_result",
          "data": {
            "text/plain": [
              "      species   n  perc\n",
              "0      setosa  50  50.0\n",
              "1  versicolor  50  50.0"
            ],
            "text/html": [
              "\n",
              "  <div id=\"df-e368e8c7-68b2-4e33-bd0f-a7b8780bc4e4\">\n",
              "    <div class=\"colab-df-container\">\n",
              "      <div>\n",
              "<style scoped>\n",
              "    .dataframe tbody tr th:only-of-type {\n",
              "        vertical-align: middle;\n",
              "    }\n",
              "\n",
              "    .dataframe tbody tr th {\n",
              "        vertical-align: top;\n",
              "    }\n",
              "\n",
              "    .dataframe thead th {\n",
              "        text-align: right;\n",
              "    }\n",
              "</style>\n",
              "<table border=\"1\" class=\"dataframe\">\n",
              "  <thead>\n",
              "    <tr style=\"text-align: right;\">\n",
              "      <th></th>\n",
              "      <th>species</th>\n",
              "      <th>n</th>\n",
              "      <th>perc</th>\n",
              "    </tr>\n",
              "  </thead>\n",
              "  <tbody>\n",
              "    <tr>\n",
              "      <th>0</th>\n",
              "      <td>setosa</td>\n",
              "      <td>50</td>\n",
              "      <td>50.0</td>\n",
              "    </tr>\n",
              "    <tr>\n",
              "      <th>1</th>\n",
              "      <td>versicolor</td>\n",
              "      <td>50</td>\n",
              "      <td>50.0</td>\n",
              "    </tr>\n",
              "  </tbody>\n",
              "</table>\n",
              "</div>\n",
              "      <button class=\"colab-df-convert\" onclick=\"convertToInteractive('df-e368e8c7-68b2-4e33-bd0f-a7b8780bc4e4')\"\n",
              "              title=\"Convert this dataframe to an interactive table.\"\n",
              "              style=\"display:none;\">\n",
              "        \n",
              "  <svg xmlns=\"http://www.w3.org/2000/svg\" height=\"24px\"viewBox=\"0 0 24 24\"\n",
              "       width=\"24px\">\n",
              "    <path d=\"M0 0h24v24H0V0z\" fill=\"none\"/>\n",
              "    <path d=\"M18.56 5.44l.94 2.06.94-2.06 2.06-.94-2.06-.94-.94-2.06-.94 2.06-2.06.94zm-11 1L8.5 8.5l.94-2.06 2.06-.94-2.06-.94L8.5 2.5l-.94 2.06-2.06.94zm10 10l.94 2.06.94-2.06 2.06-.94-2.06-.94-.94-2.06-.94 2.06-2.06.94z\"/><path d=\"M17.41 7.96l-1.37-1.37c-.4-.4-.92-.59-1.43-.59-.52 0-1.04.2-1.43.59L10.3 9.45l-7.72 7.72c-.78.78-.78 2.05 0 2.83L4 21.41c.39.39.9.59 1.41.59.51 0 1.02-.2 1.41-.59l7.78-7.78 2.81-2.81c.8-.78.8-2.07 0-2.86zM5.41 20L4 18.59l7.72-7.72 1.47 1.35L5.41 20z\"/>\n",
              "  </svg>\n",
              "      </button>\n",
              "      \n",
              "  <style>\n",
              "    .colab-df-container {\n",
              "      display:flex;\n",
              "      flex-wrap:wrap;\n",
              "      gap: 12px;\n",
              "    }\n",
              "\n",
              "    .colab-df-convert {\n",
              "      background-color: #E8F0FE;\n",
              "      border: none;\n",
              "      border-radius: 50%;\n",
              "      cursor: pointer;\n",
              "      display: none;\n",
              "      fill: #1967D2;\n",
              "      height: 32px;\n",
              "      padding: 0 0 0 0;\n",
              "      width: 32px;\n",
              "    }\n",
              "\n",
              "    .colab-df-convert:hover {\n",
              "      background-color: #E2EBFA;\n",
              "      box-shadow: 0px 1px 2px rgba(60, 64, 67, 0.3), 0px 1px 3px 1px rgba(60, 64, 67, 0.15);\n",
              "      fill: #174EA6;\n",
              "    }\n",
              "\n",
              "    [theme=dark] .colab-df-convert {\n",
              "      background-color: #3B4455;\n",
              "      fill: #D2E3FC;\n",
              "    }\n",
              "\n",
              "    [theme=dark] .colab-df-convert:hover {\n",
              "      background-color: #434B5C;\n",
              "      box-shadow: 0px 1px 3px 1px rgba(0, 0, 0, 0.15);\n",
              "      filter: drop-shadow(0px 1px 2px rgba(0, 0, 0, 0.3));\n",
              "      fill: #FFFFFF;\n",
              "    }\n",
              "  </style>\n",
              "\n",
              "      <script>\n",
              "        const buttonEl =\n",
              "          document.querySelector('#df-e368e8c7-68b2-4e33-bd0f-a7b8780bc4e4 button.colab-df-convert');\n",
              "        buttonEl.style.display =\n",
              "          google.colab.kernel.accessAllowed ? 'block' : 'none';\n",
              "\n",
              "        async function convertToInteractive(key) {\n",
              "          const element = document.querySelector('#df-e368e8c7-68b2-4e33-bd0f-a7b8780bc4e4');\n",
              "          const dataTable =\n",
              "            await google.colab.kernel.invokeFunction('convertToInteractive',\n",
              "                                                     [key], {});\n",
              "          if (!dataTable) return;\n",
              "\n",
              "          const docLinkHtml = 'Like what you see? Visit the ' +\n",
              "            '<a target=\"_blank\" href=https://colab.research.google.com/notebooks/data_table.ipynb>data table notebook</a>'\n",
              "            + ' to learn more about interactive tables.';\n",
              "          element.innerHTML = '';\n",
              "          dataTable['output_type'] = 'display_data';\n",
              "          await google.colab.output.renderOutput(dataTable, element);\n",
              "          const docLink = document.createElement('div');\n",
              "          docLink.innerHTML = docLinkHtml;\n",
              "          element.appendChild(docLink);\n",
              "        }\n",
              "      </script>\n",
              "    </div>\n",
              "  </div>\n",
              "  "
            ]
          },
          "metadata": {},
          "execution_count": 79
        }
      ],
      "source": [
        "total"
      ]
    },
    {
      "cell_type": "markdown",
      "id": "985a9071",
      "metadata": {
        "id": "985a9071"
      },
      "source": [
        "## Check Outliers\n",
        "<img src=\"https://github.com/orlandojrps/Project1/blob/main/images/img3.png?raw=true\" width=\"300\" height=\"100\"/>"
      ]
    },
    {
      "cell_type": "code",
      "execution_count": 80,
      "id": "d1bc13fc",
      "metadata": {
        "scrolled": true,
        "colab": {
          "base_uri": "https://localhost:8080/",
          "height": 283
        },
        "id": "d1bc13fc",
        "outputId": "9c1ad6d7-5fd2-412a-e60f-9aaeca6d1fce"
      },
      "outputs": [
        {
          "output_type": "execute_result",
          "data": {
            "text/plain": [
              "<matplotlib.axes._subplots.AxesSubplot at 0x7fef25475510>"
            ]
          },
          "metadata": {},
          "execution_count": 80
        },
        {
          "output_type": "display_data",
          "data": {
            "text/plain": [
              "<Figure size 432x288 with 1 Axes>"
            ],
            "image/png": "[encoded data removed]"
          },
          "metadata": {
            "needs_background": "light"
          }
        }
      ],
      "source": [
        "df.boxplot()"
      ]
    },
    {
      "cell_type": "markdown",
      "id": "ce9528c3",
      "metadata": {
        "id": "ce9528c3"
      },
      "source": [
        "## Split Target and Features\n",
        "\n",
        "<img src=\"https://github.com/orlandojrps/Project1/blob/main/images/img12.png?raw=true\" width=\"300\" height=\"100\"/>"
      ]
    },
    {
      "cell_type": "code",
      "execution_count": 81,
      "id": "1475dfe8-9ffb-4cba-a062-75678cc0a968",
      "metadata": {
        "id": "1475dfe8-9ffb-4cba-a062-75678cc0a968"
      },
      "outputs": [],
      "source": [
        "X = df.drop(columns = ['species'])\n",
        "y = df['species']"
      ]
    },
    {
      "cell_type": "markdown",
      "id": "c7bd55ab",
      "metadata": {
        "id": "c7bd55ab"
      },
      "source": [
        "## Split Train and Test. Target and Features\n",
        "<img src=\"https://i.ibb.co/3csjYT2/image.png\" width=\"400\" height=\"100\"/>"
      ]
    },
    {
      "cell_type": "code",
      "execution_count": 82,
      "id": "f41f22bf",
      "metadata": {
        "id": "f41f22bf"
      },
      "outputs": [],
      "source": [
        "X_train, X_test, y_train, y_test = train_test_split(X, y, test_size=0.33, random_state=42)"
      ]
    },
    {
      "cell_type": "markdown",
      "id": "88be02b8-d72b-4837-9202-b8f7eb2b57e8",
      "metadata": {
        "id": "88be02b8-d72b-4837-9202-b8f7eb2b57e8"
      },
      "source": [
        "## Train the model with the most common Supervised Algorithms\n",
        "\n",
        "<img src=\"https://github.com/orlandojrps/Project1/blob/main/images/img8.png?raw=true\" width=\"250\" height=\"80\"/>"
      ]
    },
    {
      "cell_type": "code",
      "execution_count": 83,
      "id": "61f9a322-6694-4c48-858a-3141debb37e9",
      "metadata": {
        "id": "61f9a322-6694-4c48-858a-3141debb37e9"
      },
      "outputs": [],
      "source": [
        "LR = LogisticRegression(solver='lbfgs', max_iter=1000).fit(X_train, y_train)\n",
        "LDA = LinearDiscriminantAnalysis().fit(X_train, y_train)\n",
        "CART = DecisionTreeClassifier(min_samples_leaf=10).fit(X_train, y_train)\n",
        "KNN = KNeighborsClassifier().fit(X_train, y_train)\n",
        "SVM = SVC(probability=True).fit(X_train, y_train) \n",
        "RF = RandomForestClassifier().fit(X_train, y_train)"
      ]
    },
    {
      "cell_type": "markdown",
      "id": "e0ebda80",
      "metadata": {
        "id": "e0ebda80"
      },
      "source": [
        "# How does it works?"
      ]
    },
    {
      "cell_type": "code",
      "execution_count": 91,
      "id": "b453e25b",
      "metadata": {
        "colab": {
          "base_uri": "https://localhost:8080/",
          "height": 505
        },
        "id": "b453e25b",
        "outputId": "72b61e95-c1c8-4ee9-9af9-e05a0488f1bb"
      },
      "outputs": [
        {
          "output_type": "execute_result",
          "data": {
            "text/plain": [
              "    sepal_length  sepal_width  petal_length  petal_width  probability LR  \\\n",
              "28           5.2          3.4           1.4          0.2        0.027948   \n",
              "93           5.0          2.3           3.3          1.0        0.885142   \n",
              "5            5.4          3.9           1.7          0.4        0.045435   \n",
              "66           5.6          3.0           4.5          1.5        0.991455   \n",
              "65           6.7          3.1           4.4          1.4        0.992200   \n",
              "..           ...          ...           ...          ...             ...   \n",
              "60           5.0          2.0           3.5          1.0        0.937784   \n",
              "71           6.1          2.8           4.0          1.3        0.979818   \n",
              "14           5.8          4.0           1.2          0.2        0.014736   \n",
              "92           5.8          2.6           4.0          1.2        0.978630   \n",
              "51           6.4          3.2           4.5          1.5        0.992888   \n",
              "\n",
              "    probability SVM  probability CART  probability KNN  probability LDA  \\\n",
              "28         0.025077               0.0              0.0     1.646690e-25   \n",
              "93         0.934180               1.0              1.0     1.000000e+00   \n",
              "5          0.042091               0.0              0.0     2.905606e-24   \n",
              "66         0.983775               1.0              1.0     1.000000e+00   \n",
              "65         0.970098               1.0              1.0     1.000000e+00   \n",
              "..              ...               ...              ...              ...   \n",
              "60         0.962341               1.0              1.0     1.000000e+00   \n",
              "71         0.975003               1.0              1.0     1.000000e+00   \n",
              "14         0.018553               0.0              0.0     1.020259e-33   \n",
              "92         0.979027               1.0              1.0     1.000000e+00   \n",
              "51         0.974744               1.0              1.0     1.000000e+00   \n",
              "\n",
              "    probability RF  cutoff / threshold predicted LR predicted SVM  \\\n",
              "28            0.00                 0.5       setosa        setosa   \n",
              "93            1.00                 0.5   versicolor    versicolor   \n",
              "5             0.00                 0.5       setosa        setosa   \n",
              "66            1.00                 0.5   versicolor    versicolor   \n",
              "65            1.00                 0.5   versicolor    versicolor   \n",
              "..             ...                 ...          ...           ...   \n",
              "60            1.00                 0.5   versicolor    versicolor   \n",
              "71            1.00                 0.5   versicolor    versicolor   \n",
              "14            0.04                 0.5       setosa        setosa   \n",
              "92            1.00                 0.5   versicolor    versicolor   \n",
              "51            0.99                 0.5   versicolor    versicolor   \n",
              "\n",
              "   predicted CART predicted KNN predicted LDA predicted RF  \n",
              "28         setosa        setosa        setosa       setosa  \n",
              "93     versicolor    versicolor    versicolor   versicolor  \n",
              "5          setosa        setosa        setosa       setosa  \n",
              "66     versicolor    versicolor    versicolor   versicolor  \n",
              "65     versicolor    versicolor    versicolor   versicolor  \n",
              "..            ...           ...           ...          ...  \n",
              "60     versicolor    versicolor    versicolor   versicolor  \n",
              "71     versicolor    versicolor    versicolor   versicolor  \n",
              "14         setosa        setosa        setosa       setosa  \n",
              "92     versicolor    versicolor    versicolor   versicolor  \n",
              "51     versicolor    versicolor    versicolor   versicolor  \n",
              "\n",
              "[67 rows x 17 columns]"
            ],
            "text/html": [
              "\n",
              "  <div id=\"df-4ee12348-470a-409e-b9bb-4f33addbefc7\">\n",
              "    <div class=\"colab-df-container\">\n",
              "      <div>\n",
              "<style scoped>\n",
              "    .dataframe tbody tr th:only-of-type {\n",
              "        vertical-align: middle;\n",
              "    }\n",
              "\n",
              "    .dataframe tbody tr th {\n",
              "        vertical-align: top;\n",
              "    }\n",
              "\n",
              "    .dataframe thead th {\n",
              "        text-align: right;\n",
              "    }\n",
              "</style>\n",
              "<table border=\"1\" class=\"dataframe\">\n",
              "  <thead>\n",
              "    <tr style=\"text-align: right;\">\n",
              "      <th></th>\n",
              "      <th>sepal_length</th>\n",
              "      <th>sepal_width</th>\n",
              "      <th>petal_length</th>\n",
              "      <th>petal_width</th>\n",
              "      <th>probability LR</th>\n",
              "      <th>probability SVM</th>\n",
              "      <th>probability CART</th>\n",
              "      <th>probability KNN</th>\n",
              "      <th>probability LDA</th>\n",
              "      <th>probability RF</th>\n",
              "      <th>cutoff / threshold</th>\n",
              "      <th>predicted LR</th>\n",
              "      <th>predicted SVM</th>\n",
              "      <th>predicted CART</th>\n",
              "      <th>predicted KNN</th>\n",
              "      <th>predicted LDA</th>\n",
              "      <th>predicted RF</th>\n",
              "    </tr>\n",
              "  </thead>\n",
              "  <tbody>\n",
              "    <tr>\n",
              "      <th>28</th>\n",
              "      <td>5.2</td>\n",
              "      <td>3.4</td>\n",
              "      <td>1.4</td>\n",
              "      <td>0.2</td>\n",
              "      <td>0.027948</td>\n",
              "      <td>0.025077</td>\n",
              "      <td>0.0</td>\n",
              "      <td>0.0</td>\n",
              "      <td>1.646690e-25</td>\n",
              "      <td>0.00</td>\n",
              "      <td>0.5</td>\n",
              "      <td>setosa</td>\n",
              "      <td>setosa</td>\n",
              "      <td>setosa</td>\n",
              "      <td>setosa</td>\n",
              "      <td>setosa</td>\n",
              "      <td>setosa</td>\n",
              "    </tr>\n",
              "    <tr>\n",
              "      <th>93</th>\n",
              "      <td>5.0</td>\n",
              "      <td>2.3</td>\n",
              "      <td>3.3</td>\n",
              "      <td>1.0</td>\n",
              "      <td>0.885142</td>\n",
              "      <td>0.934180</td>\n",
              "      <td>1.0</td>\n",
              "      <td>1.0</td>\n",
              "      <td>1.000000e+00</td>\n",
              "      <td>1.00</td>\n",
              "      <td>0.5</td>\n",
              "      <td>versicolor</td>\n",
              "      <td>versicolor</td>\n",
              "      <td>versicolor</td>\n",
              "      <td>versicolor</td>\n",
              "      <td>versicolor</td>\n",
              "      <td>versicolor</td>\n",
              "    </tr>\n",
              "    <tr>\n",
              "      <th>5</th>\n",
              "      <td>5.4</td>\n",
              "      <td>3.9</td>\n",
              "      <td>1.7</td>\n",
              "      <td>0.4</td>\n",
              "      <td>0.045435</td>\n",
              "      <td>0.042091</td>\n",
              "      <td>0.0</td>\n",
              "      <td>0.0</td>\n",
              "      <td>2.905606e-24</td>\n",
              "      <td>0.00</td>\n",
              "      <td>0.5</td>\n",
              "      <td>setosa</td>\n",
              "      <td>setosa</td>\n",
              "      <td>setosa</td>\n",
              "      <td>setosa</td>\n",
              "      <td>setosa</td>\n",
              "      <td>setosa</td>\n",
              "    </tr>\n",
              "    <tr>\n",
              "      <th>66</th>\n",
              "      <td>5.6</td>\n",
              "      <td>3.0</td>\n",
              "      <td>4.5</td>\n",
              "      <td>1.5</td>\n",
              "      <td>0.991455</td>\n",
              "      <td>0.983775</td>\n",
              "      <td>1.0</td>\n",
              "      <td>1.0</td>\n",
              "      <td>1.000000e+00</td>\n",
              "      <td>1.00</td>\n",
              "      <td>0.5</td>\n",
              "      <td>versicolor</td>\n",
              "      <td>versicolor</td>\n",
              "      <td>versicolor</td>\n",
              "      <td>versicolor</td>\n",
              "      <td>versicolor</td>\n",
              "      <td>versicolor</td>\n",
              "    </tr>\n",
              "    <tr>\n",
              "      <th>65</th>\n",
              "      <td>6.7</td>\n",
              "      <td>3.1</td>\n",
              "      <td>4.4</td>\n",
              "      <td>1.4</td>\n",
              "      <td>0.992200</td>\n",
              "      <td>0.970098</td>\n",
              "      <td>1.0</td>\n",
              "      <td>1.0</td>\n",
              "      <td>1.000000e+00</td>\n",
              "      <td>1.00</td>\n",
              "      <td>0.5</td>\n",
              "      <td>versicolor</td>\n",
              "      <td>versicolor</td>\n",
              "      <td>versicolor</td>\n",
              "      <td>versicolor</td>\n",
              "      <td>versicolor</td>\n",
              "      <td>versicolor</td>\n",
              "    </tr>\n",
              "    <tr>\n",
              "      <th>...</th>\n",
              "      <td>...</td>\n",
              "      <td>...</td>\n",
              "      <td>...</td>\n",
              "      <td>...</td>\n",
              "      <td>...</td>\n",
              "      <td>...</td>\n",
              "      <td>...</td>\n",
              "      <td>...</td>\n",
              "      <td>...</td>\n",
              "      <td>...</td>\n",
              "      <td>...</td>\n",
              "      <td>...</td>\n",
              "      <td>...</td>\n",
              "      <td>...</td>\n",
              "      <td>...</td>\n",
              "      <td>...</td>\n",
              "      <td>...</td>\n",
              "    </tr>\n",
              "    <tr>\n",
              "      <th>60</th>\n",
              "      <td>5.0</td>\n",
              "      <td>2.0</td>\n",
              "      <td>3.5</td>\n",
              "      <td>1.0</td>\n",
              "      <td>0.937784</td>\n",
              "      <td>0.962341</td>\n",
              "      <td>1.0</td>\n",
              "      <td>1.0</td>\n",
              "      <td>1.000000e+00</td>\n",
              "      <td>1.00</td>\n",
              "      <td>0.5</td>\n",
              "      <td>versicolor</td>\n",
              "      <td>versicolor</td>\n",
              "      <td>versicolor</td>\n",
              "      <td>versicolor</td>\n",
              "      <td>versicolor</td>\n",
              "      <td>versicolor</td>\n",
              "    </tr>\n",
              "    <tr>\n",
              "      <th>71</th>\n",
              "      <td>6.1</td>\n",
              "      <td>2.8</td>\n",
              "      <td>4.0</td>\n",
              "      <td>1.3</td>\n",
              "      <td>0.979818</td>\n",
              "      <td>0.975003</td>\n",
              "      <td>1.0</td>\n",
              "      <td>1.0</td>\n",
              "      <td>1.000000e+00</td>\n",
              "      <td>1.00</td>\n",
              "      <td>0.5</td>\n",
              "      <td>versicolor</td>\n",
              "      <td>versicolor</td>\n",
              "      <td>versicolor</td>\n",
              "      <td>versicolor</td>\n",
              "      <td>versicolor</td>\n",
              "      <td>versicolor</td>\n",
              "    </tr>\n",
              "    <tr>\n",
              "      <th>14</th>\n",
              "      <td>5.8</td>\n",
              "      <td>4.0</td>\n",
              "      <td>1.2</td>\n",
              "      <td>0.2</td>\n",
              "      <td>0.014736</td>\n",
              "      <td>0.018553</td>\n",
              "      <td>0.0</td>\n",
              "      <td>0.0</td>\n",
              "      <td>1.020259e-33</td>\n",
              "      <td>0.04</td>\n",
              "      <td>0.5</td>\n",
              "      <td>setosa</td>\n",
              "      <td>setosa</td>\n",
              "      <td>setosa</td>\n",
              "      <td>setosa</td>\n",
              "      <td>setosa</td>\n",
              "      <td>setosa</td>\n",
              "    </tr>\n",
              "    <tr>\n",
              "      <th>92</th>\n",
              "      <td>5.8</td>\n",
              "      <td>2.6</td>\n",
              "      <td>4.0</td>\n",
              "      <td>1.2</td>\n",
              "      <td>0.978630</td>\n",
              "      <td>0.979027</td>\n",
              "      <td>1.0</td>\n",
              "      <td>1.0</td>\n",
              "      <td>1.000000e+00</td>\n",
              "      <td>1.00</td>\n",
              "      <td>0.5</td>\n",
              "      <td>versicolor</td>\n",
              "      <td>versicolor</td>\n",
              "      <td>versicolor</td>\n",
              "      <td>versicolor</td>\n",
              "      <td>versicolor</td>\n",
              "      <td>versicolor</td>\n",
              "    </tr>\n",
              "    <tr>\n",
              "      <th>51</th>\n",
              "      <td>6.4</td>\n",
              "      <td>3.2</td>\n",
              "      <td>4.5</td>\n",
              "      <td>1.5</td>\n",
              "      <td>0.992888</td>\n",
              "      <td>0.974744</td>\n",
              "      <td>1.0</td>\n",
              "      <td>1.0</td>\n",
              "      <td>1.000000e+00</td>\n",
              "      <td>0.99</td>\n",
              "      <td>0.5</td>\n",
              "      <td>versicolor</td>\n",
              "      <td>versicolor</td>\n",
              "      <td>versicolor</td>\n",
              "      <td>versicolor</td>\n",
              "      <td>versicolor</td>\n",
              "      <td>versicolor</td>\n",
              "    </tr>\n",
              "  </tbody>\n",
              "</table>\n",
              "<p>67 rows × 17 columns</p>\n",
              "</div>\n",
              "      <button class=\"colab-df-convert\" onclick=\"convertToInteractive('df-4ee12348-470a-409e-b9bb-4f33addbefc7')\"\n",
              "              title=\"Convert this dataframe to an interactive table.\"\n",
              "              style=\"display:none;\">\n",
              "        \n",
              "  <svg xmlns=\"http://www.w3.org/2000/svg\" height=\"24px\"viewBox=\"0 0 24 24\"\n",
              "       width=\"24px\">\n",
              "    <path d=\"M0 0h24v24H0V0z\" fill=\"none\"/>\n",
              "    <path d=\"M18.56 5.44l.94 2.06.94-2.06 2.06-.94-2.06-.94-.94-2.06-.94 2.06-2.06.94zm-11 1L8.5 8.5l.94-2.06 2.06-.94-2.06-.94L8.5 2.5l-.94 2.06-2.06.94zm10 10l.94 2.06.94-2.06 2.06-.94-2.06-.94-.94-2.06-.94 2.06-2.06.94z\"/><path d=\"M17.41 7.96l-1.37-1.37c-.4-.4-.92-.59-1.43-.59-.52 0-1.04.2-1.43.59L10.3 9.45l-7.72 7.72c-.78.78-.78 2.05 0 2.83L4 21.41c.39.39.9.59 1.41.59.51 0 1.02-.2 1.41-.59l7.78-7.78 2.81-2.81c.8-.78.8-2.07 0-2.86zM5.41 20L4 18.59l7.72-7.72 1.47 1.35L5.41 20z\"/>\n",
              "  </svg>\n",
              "      </button>\n",
              "      \n",
              "  <style>\n",
              "    .colab-df-container {\n",
              "      display:flex;\n",
              "      flex-wrap:wrap;\n",
              "      gap: 12px;\n",
              "    }\n",
              "\n",
              "    .colab-df-convert {\n",
              "      background-color: #E8F0FE;\n",
              "      border: none;\n",
              "      border-radius: 50%;\n",
              "      cursor: pointer;\n",
              "      display: none;\n",
              "      fill: #1967D2;\n",
              "      height: 32px;\n",
              "      padding: 0 0 0 0;\n",
              "      width: 32px;\n",
              "    }\n",
              "\n",
              "    .colab-df-convert:hover {\n",
              "      background-color: #E2EBFA;\n",
              "      box-shadow: 0px 1px 2px rgba(60, 64, 67, 0.3), 0px 1px 3px 1px rgba(60, 64, 67, 0.15);\n",
              "      fill: #174EA6;\n",
              "    }\n",
              "\n",
              "    [theme=dark] .colab-df-convert {\n",
              "      background-color: #3B4455;\n",
              "      fill: #D2E3FC;\n",
              "    }\n",
              "\n",
              "    [theme=dark] .colab-df-convert:hover {\n",
              "      background-color: #434B5C;\n",
              "      box-shadow: 0px 1px 3px 1px rgba(0, 0, 0, 0.15);\n",
              "      filter: drop-shadow(0px 1px 2px rgba(0, 0, 0, 0.3));\n",
              "      fill: #FFFFFF;\n",
              "    }\n",
              "  </style>\n",
              "\n",
              "      <script>\n",
              "        const buttonEl =\n",
              "          document.querySelector('#df-4ee12348-470a-409e-b9bb-4f33addbefc7 button.colab-df-convert');\n",
              "        buttonEl.style.display =\n",
              "          google.colab.kernel.accessAllowed ? 'block' : 'none';\n",
              "\n",
              "        async function convertToInteractive(key) {\n",
              "          const element = document.querySelector('#df-4ee12348-470a-409e-b9bb-4f33addbefc7');\n",
              "          const dataTable =\n",
              "            await google.colab.kernel.invokeFunction('convertToInteractive',\n",
              "                                                     [key], {});\n",
              "          if (!dataTable) return;\n",
              "\n",
              "          const docLinkHtml = 'Like what you see? Visit the ' +\n",
              "            '<a target=\"_blank\" href=https://colab.research.google.com/notebooks/data_table.ipynb>data table notebook</a>'\n",
              "            + ' to learn more about interactive tables.';\n",
              "          element.innerHTML = '';\n",
              "          dataTable['output_type'] = 'display_data';\n",
              "          await google.colab.output.renderOutput(dataTable, element);\n",
              "          const docLink = document.createElement('div');\n",
              "          docLink.innerHTML = docLinkHtml;\n",
              "          element.appendChild(docLink);\n",
              "        }\n",
              "      </script>\n",
              "    </div>\n",
              "  </div>\n",
              "  "
            ]
          },
          "metadata": {},
          "execution_count": 91
        }
      ],
      "source": [
        "X_train2 = X_train.copy()\n",
        "X_train2['probability LR'] = LR.predict_proba(X_train)[:,1]\n",
        "X_train2['probability SVM'] = SVM.predict_proba(X_train)[:,1]\n",
        "\n",
        "X_train2['probability CART'] = CART.predict_proba(X_train)[:,1]\n",
        "X_train2['probability KNN'] = KNN.predict_proba(X_train)[:,1]\n",
        "X_train2['probability LDA'] = LDA.predict_proba(X_train)[:,1]\n",
        "X_train2['probability RF'] = RF.predict_proba(X_train)[:,1]\n",
        "\n",
        "X_train2['cutoff / threshold'] = 0.5\n",
        "X_train2['predicted LR'] = LR.predict(X_train)\n",
        "X_train2['predicted SVM'] = SVM.predict(X_train)\n",
        "\n",
        "X_train2['predicted CART'] = CART.predict(X_train)\n",
        "X_train2['predicted KNN'] = KNN.predict(X_train)\n",
        "X_train2['predicted LDA'] = LDA.predict(X_train)\n",
        "X_train2['predicted RF'] = RF.predict(X_train)\n",
        "\n",
        "\n",
        "X_train2"
      ]
    },
    {
      "cell_type": "markdown",
      "id": "2c4500e0",
      "metadata": {
        "id": "2c4500e0"
      },
      "source": [
        "## Choosing Metric"
      ]
    },
    {
      "cell_type": "code",
      "execution_count": 92,
      "id": "b96163f2",
      "metadata": {
        "scrolled": true,
        "colab": {
          "base_uri": "https://localhost:8080/"
        },
        "id": "b96163f2",
        "outputId": "5714c853-d02d-48ac-d18c-81b7f9ba5cfd"
      },
      "outputs": [
        {
          "output_type": "stream",
          "name": "stdout",
          "text": [
            "Training accuracy LR: 1.0 \n",
            "\n",
            "Training accuracy LDA: 1.0 \n",
            "\n",
            "Training accuracy CART: 1.0 \n",
            "\n",
            "Training accuracy KNN: 1.0 \n",
            "\n",
            "Training accuracy SVM: 1.0 \n",
            "\n",
            "Training accuracy RF: 1.0 \n",
            "\n"
          ]
        }
      ],
      "source": [
        "print(\"Training accuracy LR:\", LR.score(X_train[['sepal_length','sepal_width','petal_length','petal_width']], y_train), \"\\n\")\n",
        "print(\"Training accuracy LDA:\", LDA.score(X_train[['sepal_length','sepal_width','petal_length','petal_width']], y_train), \"\\n\")\n",
        "print(\"Training accuracy CART:\", CART.score(X_train[['sepal_length','sepal_width','petal_length','petal_width']], y_train), \"\\n\")\n",
        "print(\"Training accuracy KNN:\", KNN.score(X_train[['sepal_length','sepal_width','petal_length','petal_width']], y_train), \"\\n\")\n",
        "print(\"Training accuracy SVM:\", SVM.score(X_train[['sepal_length','sepal_width','petal_length','petal_width']], y_train), \"\\n\")\n",
        "print(\"Training accuracy RF:\", SVM.score(X_train[['sepal_length','sepal_width','petal_length','petal_width']], y_train), \"\\n\")"
      ]
    },
    {
      "cell_type": "markdown",
      "id": "18d3e3d9",
      "metadata": {
        "id": "18d3e3d9"
      },
      "source": [
        "## Save & Load Model using Pickle\n",
        "\n",
        "<img src=\"https://github.com/orlandojrps/Project1/blob/main/images/img9.png?raw=true\" width=\"200\" height=\"80\"/>"
      ]
    },
    {
      "cell_type": "code",
      "execution_count": 93,
      "id": "74d839e6",
      "metadata": {
        "id": "74d839e6"
      },
      "outputs": [],
      "source": [
        "pickle.dump(LR, open('Modelo_Iris.sav', 'wb'))"
      ]
    },
    {
      "cell_type": "markdown",
      "id": "8a4ea492",
      "metadata": {
        "id": "8a4ea492"
      },
      "source": [
        "## Load Model using Pickle\n",
        "\n",
        "<img src=\"https://github.com/orlandojrps/Project1/blob/main/images/img10.png?raw=true\" width=\"300\" height=\"100\"/>\n"
      ]
    },
    {
      "cell_type": "code",
      "execution_count": 94,
      "id": "91ea9fc2",
      "metadata": {
        "id": "91ea9fc2"
      },
      "outputs": [],
      "source": [
        "loaded_model = pickle.load(open('Modelo_Iris.sav', 'rb'))"
      ]
    },
    {
      "cell_type": "markdown",
      "id": "8bbde248",
      "metadata": {
        "id": "8bbde248"
      },
      "source": [
        "## Testing with X_test and y_test, Check for overfitting\n",
        "\n",
        "<img src=\"https://github.com/orlandojrps/Project1/blob/main/images/img11.png?raw=true\" width=\"150\" height=\"80\"/>"
      ]
    },
    {
      "cell_type": "code",
      "execution_count": 97,
      "id": "6204878c",
      "metadata": {
        "tags": [],
        "colab": {
          "base_uri": "https://localhost:8080/"
        },
        "id": "6204878c",
        "outputId": "540e8520-4655-4849-9888-9bda77dc044f"
      },
      "outputs": [
        {
          "output_type": "stream",
          "name": "stdout",
          "text": [
            "Training accuracy LR: 1.0 \n",
            "\n"
          ]
        }
      ],
      "source": [
        "print(\"Training accuracy LR:\", loaded_model.score(X_test, y_test), \"\\n\")"
      ]
    }
  ],
  "metadata": {
    "kernelspec": {
      "display_name": "Python 3 (ipykernel)",
      "language": "python",
      "name": "python3"
    },
    "language_info": {
      "codemirror_mode": {
        "name": "ipython",
        "version": 3
      },
      "file_extension": ".py",
      "mimetype": "text/x-python",
      "name": "python",
      "nbconvert_exporter": "python",
      "pygments_lexer": "ipython3",
      "version": "3.10.4"
    },
    "toc-autonumbering": false,
    "toc-showcode": false,
    "toc-showmarkdowntxt": true,
    "colab": {
      "name": "Projeto 1.ipynb",
      "provenance": []
    }
  },
  "nbformat": 4,
  "nbformat_minor": 5
}